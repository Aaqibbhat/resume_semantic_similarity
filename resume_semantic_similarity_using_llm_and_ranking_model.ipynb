{
 "cells": [
  {
   "cell_type": "code",
   "execution_count": null,
   "id": "915f358d",
   "metadata": {
    "tags": []
   },
   "outputs": [],
   "source": [
    "# %pip install --upgrade --quiet sentence_transformers transformers anthropic anthropic openpyxl Unidecode ftfy langchain PyPDF2"
   ]
  },
  {
   "cell_type": "code",
   "execution_count": 1,
   "id": "f4469949",
   "metadata": {
    "tags": []
   },
   "outputs": [],
   "source": [
    "import re\n",
    "import pandas as pd\n",
    "from pathlib import Path\n",
    "from unidecode import unidecode \n",
    "import ftfy\n",
    "import PyPDF2\n",
    "import os\n",
    "import json\n",
    "\n",
    "pd.set_option(\"display.width\", 1000000000)\n",
    "pd.set_option(\"display.max_rows\", 5000)\n",
    "pd.set_option(\"display.max_columns\", None)\n",
    "pd.set_option(\"display.max_colwidth\", None)\n",
    "pd.set_option(\"display.expand_frame_repr\", False)\n",
    "pd.set_option('display.float_format', lambda x: '%.5f' % x)\n",
    "\n",
    "from tqdm import tqdm\n",
    "tqdm.pandas()\n",
    "\n",
    "import random \n",
    "random.seed(0)\n",
    "\n",
    "import warnings\n",
    "warnings.filterwarnings(\"ignore\")\n",
    "\n",
    "from IPython.core.interactiveshell import InteractiveShell\n",
    "InteractiveShell.ast_node_interactivity = \"all\""
   ]
  },
  {
   "cell_type": "code",
   "execution_count": null,
   "id": "cf734acb-4aff-4746-86fc-b2add867c226",
   "metadata": {
    "tags": []
   },
   "outputs": [],
   "source": [
    "from langchain.document_loaders import PyPDFLoader"
   ]
  },
  {
   "cell_type": "code",
   "execution_count": null,
   "id": "a47b2f1e-ff1e-4d99-8108-bbb5e172ec4e",
   "metadata": {
    "tags": []
   },
   "outputs": [],
   "source": [
    "def clean_string(context):\n",
    "    context = ftfy.fix_text(context)\n",
    "    context = re.sub(r\"[|;()_-]\", \" \", context)\n",
    "    context = re.sub(r\"<[^>]+>\", \" \", context)\n",
    "    context = re.sub(r\"[*]+\", \"x\", context)\n",
    "    context = re.sub(r\"(?<=\\d),(?=\\d)\", \" \", context)\n",
    "    context = context.replace(\"#\", \" \", -1)\n",
    "    context = context.replace(\"‚·\", \" \", -1)\n",
    "    context = context.replace(\"\\n\", \" \", -1)\n",
    "    context = context.replace(\"Î¼\", \"μ\", -1)\n",
    "    context = context.replace(\" / \", \" \", -1)\n",
    "    context = context.replace(\"”\", '\"', -1)\n",
    "    context = context.replace(\"~\", \" \", -1)\n",
    "    context = context.replace(\"}\", \" \", -1)\n",
    "    context = context.replace(\"{\", \" \", -1)\n",
    "    context = context.replace(\"&nbsp\", \" \", -1)\n",
    "    context = context.replace(\" \", \" \", -1)\n",
    "    context = context.replace(\"&reg\", \"\", -1)\n",
    "    context = context.replace(\"&trade\", \" \", -1)\n",
    "    context = context.replace(\"&gt\", \" \", -1)\n",
    "    context = context.replace(\"&lt\", \" \", -1)\n",
    "    context = context.replace(\"ã\", \" \", -1)\n",
    "    context = context.replace(\"‘\", \" \", -1)\n",
    "    context = context.replace(\"â\", \" \", -1)\n",
    "    context = context.replace(\"€\", \" \", -1)\n",
    "    context = context.replace(\"“\", \" \", -1)\n",
    "    context = context.replace(\"„\", \" \", -1)\n",
    "    context = context.replace(\"¢\", \" \", -1)\n",
    "    context = context.replace(\"\", \" \", -1)\n",
    "    context = context.replace(\"\", \" \", -1)\n",
    "    context = context.replace(\"【\", \" \", -1)\n",
    "    context = context.replace(\"】\", \" \", -1)\n",
    "    context = context.replace(\"¨\", \" \", -1)\n",
    "    context = context.replace(\"Â\", \" \", -1)\n",
    "    context = context.replace(\"â\", \" \", -1)\n",
    "    context = context.replace(\"–\", \" \", -1)\n",
    "    context = context.replace(\"¶\", \" \", -1)\n",
    "    context = context.replace(\"▶\", \" \", -1)\n",
    "    context = context.replace(\"µ‰\", \" \", -1)\n",
    "    context = context.replace(\"á\", \" \", -1)\n",
    "    context = context.replace(\"ᵉ\", \" \", -1)\n",
    "    context = context.replace(\">\", \" \", -1)\n",
    "    context = context.replace(\"<\", \" \", -1)\n",
    "    context = context.replace(\"[\", \" \", -1)\n",
    "    context = context.replace(\"]\", \" \", -1)\n",
    "    context = context.replace(\" w/ \", \" \", -1)\n",
    "    context = context.replace('\"', \" \", -1)\n",
    "    context = context.replace(\"&amp\", \"&\", -1)\n",
    "    context = context.replace(\".x\", \".\", -1)\n",
    "    context = context.replace(\"Ü\", \"U\", -1)\n",
    "    context = context.replace(\"ï‚·\", \" \", -1)\n",
    "    context = context.replace(\"\", \" \", -1)\n",
    "    context = context.replace(\"×\", \"x\", -1)\n",
    "    context = context.replace(\"''\", '\"', -1)\n",
    "    context = context.replace(\"—\", \" \", -1)\n",
    "    context = context.replace(\"®\", \" \", -1)\n",
    "    context = context.replace(\"™\", \" \", -1)\n",
    "    context = context.replace(\"œ\", \" \", -1)\n",
    "    context = context.replace(\"\", \" \", -1)\n",
    "    context = context.replace(\"ï‚·\", \" \", -1)\n",
    "    context = context.replace(\"₹\", \"RS \", -1)\n",
    "    context = context.replace(\"›\", \" \", -1)\n",
    "    context = context.replace(\"?\", \" \", -1)\n",
    "    context = context.replace(\"ø\", \" \", -1)\n",
    "    context = context.replace(\"\\\\t\", \" \", -1)\n",
    "    context = context.replace(\"\\\\n\", \" \", -1)\n",
    "    context = context.replace(\"\\\\uf0b7\", \" \", -1)\n",
    "    context = context.replace(\"\\\\u\", \" \", -1)\n",
    "    context = context.replace(\"\\\\n\", \" \", -1)\n",
    "    context = re.sub(r\"(?<=[A-Za-z]| ):\", \" \", context)\n",
    "    context = re.sub(r\"(?<=\\d)(?: ?nos\\.| ?no\\.)\", \" \", context)\n",
    "    context = re.sub(r\"\\.(?!\\d)\", \" \", context)\n",
    "    context = re.sub(r\"(?<=\\d) \\.|\\. (?=\\d)\", \".\", context)\n",
    "    context = re.sub(\":{2,}\", \"\", context)\n",
    "    context = re.sub(\"\\s\\s+\", \" \", context)\n",
    "    return context.strip()"
   ]
  },
  {
   "cell_type": "code",
   "execution_count": null,
   "id": "1649e5e4-6e58-426b-93d3-25188be6dff4",
   "metadata": {
    "tags": []
   },
   "outputs": [],
   "source": [
    "def get_pdf_text(pdf_doc):    \n",
    "    resume_text = \"\"\n",
    "    try:\n",
    "        loader = PyPDFLoader(pdf_doc)\n",
    "        documents = loader.load()\n",
    "        for doc in documents:\n",
    "            page_text = str(doc).replace(\"page_content=\", \"\").split(\"metadata={'source':\")[0]\n",
    "            page_text = page_text.replace(\"\\n\", \" \")\n",
    "            resume_text += page_text\n",
    "        # print(resume_text)\n",
    "        resume_text = clean_string(unidecode(resume_text))\n",
    "            \n",
    "    except Exception as e:\n",
    "        print(\"Exception:\", e)\n",
    "    return resume_text"
   ]
  },
  {
   "cell_type": "code",
   "execution_count": null,
   "id": "bcd89ca2-5439-4654-a55a-fd41a8357ae6",
   "metadata": {
    "tags": []
   },
   "outputs": [],
   "source": [
    "def iterate_pdf_documents(folder_path):\n",
    "    folder = Path(folder_path)\n",
    "    pdf_files = folder.glob(\"**/*.pdf\")\n",
    "    return pdf_files"
   ]
  },
  {
   "cell_type": "code",
   "execution_count": null,
   "id": "821ed74b-e4b5-4e7e-9033-48722d5626f7",
   "metadata": {
    "tags": []
   },
   "outputs": [],
   "source": [
    "get_pdf_text('resume_folder/aaliverma91@gmail.com_resume.pdf')"
   ]
  },
  {
   "cell_type": "code",
   "execution_count": null,
   "id": "aa267ce0-019d-4466-9849-ed291f7f5aae",
   "metadata": {
    "tags": []
   },
   "outputs": [],
   "source": [
    "# current_dir = \".\"\n",
    "# pdf_files = iterate_pdf_documents(current_dir)\n",
    "\n",
    "# resume_summary_df = pd.DataFrame()\n",
    "# # counter = 0\n",
    "# for file in pdf_files: \n",
    "#     resume_summary = get_pdf_text(file)\n",
    "#     resume_summary_df = pd.concat(\n",
    "#         objs=[resume_summary_df, pd.DataFrame.from_dict({'file_name':[file], 'summary': [resume_summary]})],\n",
    "#         ignore_index=True\n",
    "#     )\n",
    "#     # if counter == 10:\n",
    "#     #     break\n",
    "#     # counter += 1\n",
    "# resume_summary_df.head(1)\n",
    "# resume_summary_df.to_csv(path_or_buf='resume_summary.csv', index=False)"
   ]
  },
  {
   "cell_type": "markdown",
   "id": "69bc9d98-fec7-497b-8930-d223a2cc4dcf",
   "metadata": {},
   "source": [
    "# Create prompt and run sungle inference on LLM"
   ]
  },
  {
   "cell_type": "code",
   "execution_count": null,
   "id": "a3e3e0ad-a5d3-4ad6-ad9d-7136533294aa",
   "metadata": {
    "tags": []
   },
   "outputs": [],
   "source": [
    "import boto3"
   ]
  },
  {
   "cell_type": "code",
   "execution_count": null,
   "id": "500b9efb-df60-4886-a564-49a1d2e4d8af",
   "metadata": {
    "tags": []
   },
   "outputs": [],
   "source": [
    "os.environ['CURL_CA_BUNDLE'] = ''\n",
    "from langchain import PromptTemplate"
   ]
  },
  {
   "cell_type": "code",
   "execution_count": null,
   "id": "6d22ae31-071c-43ff-b8d9-0eac3a5519b3",
   "metadata": {
    "tags": []
   },
   "outputs": [],
   "source": [
    "bedrock = boto3.client(service_name=\"bedrock-runtime\", region_name='us-east-1')\n",
    "modelId = \"mistral.mixtral-8x7b-instruct-v0:1\"\n",
    "\n",
    "accept = \"application/json\"\n",
    "contentType = \"application/json\""
   ]
  },
  {
   "cell_type": "code",
   "execution_count": null,
   "id": "b60ba4dc-e72e-4b87-96ff-58eb1234316b",
   "metadata": {
    "tags": []
   },
   "outputs": [],
   "source": [
    "multi_var_prompt = PromptTemplate(\n",
    "    input_variables=[\"summary\"], \n",
    "    template='''\n",
    "    You are an expert whose responsibility is to extract the candiate details and generate a 350 word summary from a given resume text on the candidate education background,\n",
    "    work experience as number of years followed by number of months, companies the candidate has worked in including interships, the kind of work done, professional certifications\n",
    "    completed, research papers published and candidate skill set. Make sure you provide no extra information in response if relevant information is not explicitly mentioned. \n",
    "    Do not hallucinate or make assumptions about answers. Maintain consistency in our response each time. \n",
    "    \n",
    "    Resume Summary: <<<{summary}>>>\n",
    "'''\n",
    ")\n",
    "\n",
    "\n",
    "# Below is an sample of resume summary:\n",
    "\n",
    "# I'm Arpit Jain, a Geospatial Specialist with expertise in GIS development and analysis. My background in Civil Engineering and Architecture enables me\n",
    "# to design and craft impactful solutions. From 3D architectural visualizations to research protoypes , I merge creativity and precision. \n",
    "# Proficient in Unity, ArcGIS, and Python, I excel at transforming complex data into actionable insights. You can visit my port folio at ar-arpit.ml \n",
    "# to view my work and connect with me. \n",
    "# You can also get in touch with me using following - \n",
    "# Email ID: arpit66120@gmail.com   | Phone: +91(783)68 0-5636  | LinkedIn: Arpit Jain\n",
    "\n",
    "# EDUCATION  \n",
    "\n",
    "# ● Master of Technology in Civil Engineering with specialization in Geomatics 2021 -2023  \n",
    "# Indian Institute of Technology, Roorkee, Uttarakhand\n",
    "\n",
    "# ● Bachelor of Architecture  2014 -2020  \n",
    "# School of Planning and Architecture, New Delhi.\n",
    "\n",
    "# WORK EXPERIENCE \n",
    "# . DotNet Technologies - May 2022 to Present\n",
    "\n",
    "#  Certifications:\n",
    "# . Certification is Graphic designing\n",
    "\n",
    "# Founded and managing a successful architectural and design consultancy, delivering comprehensive \n",
    "# services . Completed various graphic design, website design, interior design , product design and website \n",
    "# development projects  apart from architectural projects.\n",
    "\n",
    "# Below is the sample for generated summary:\n",
    "\n",
    "# Arpit has a strong educational background, holding a Master of Technology in Civil Engineering with a specialization in Geomatics from the \n",
    "# Indian Institute of Technology, Roorkee, completed between 2021 and 2023. Prior to this, he obtained a Bachelor of Architecture from the School of \n",
    "# Planning and Architecture, New Delhi, spanning from 2014 to 2020. In terms of work experience, Arpit has been with DotNet Technologies since May 2022,\n",
    "# accumulating experience in his current role for approximately 2 years and 1 month at the time of this resume. At DotNet Technologies, \n",
    "# he founded and manages a successful architectural and design consultancy, demonstrating leadership and entrepreneurship skills. Within this role, \n",
    "# he has completed various projects encompassing graphic design, website design, interior design, product design, and website development, in addition \n",
    "# to his core architectural responsibilities. Arpit's skill set is highlighted by his proficiency in Unity, ArcGIS, and Python, enabling him to excel in\n",
    "# GIS development and analysis. His expertise extends to transforming complex data into actionable insights, showcasing a blend of technical acumen and\n",
    "# creativity. Additionally, he holds a certification in graphic designing, reflecting a commitment to ongoing learning and professional development in diverse domains.\n",
    "\n"
   ]
  },
  {
   "cell_type": "code",
   "execution_count": null,
   "id": "dbc1eb44-581d-4140-89c5-f7d5c64a9cfa",
   "metadata": {
    "tags": []
   },
   "outputs": [],
   "source": [
    "# summary = \"\"\"\n",
    "# Prasanth Coimbatore Tamil Nadu India prasanthpkp191196@gmail com 8122490546 https //www linkedin com/in/prasanth pkp 2391b4145/ SUMMARY Senior Software Engineer with 6 years of experience in developing high quality software solutions Proven track record of leading cross functional teams successfully delivering projects on time and within budget Expertise in full stack development including proficiency in React Node and AWS Cloud Applying for the positionof Senior Software Engineer at Steam A Private Limited to leverage technical skills and contribute to the company's growth and success EXPERIENCE Senior Software Engineer Steam A Private Limited October 2023 Present Coimbatore Tamil Nadu IN x Electric Vehicles Digital Advisory EV Charging Change Design and Delivery Digital Transformation Business Transformation and Energy & Utilities x Developing innovative products for mobility and smart charging bringing the future forward x Steam A professional dares to promise and the committed to delivering results Consistently And we are carefully curating a team of multipotentiality who bring holistic perspectives and solutions to the table x We leverage cutting edge design and fit for purpose technology to deliver target outcomes for our customers in energy & utilities oil and gas and mobility EV sectors We aim to harness intelligent technology and solve problems with artistic perspectives Senior Software Engineer InterviewDesk Technologies February 2022 August 2023 Chennai India x Led the development of a proprietary digital product x Utilized Front End Frameworks ReactJs Design Frameworks AntdDesign and Back End Frameworks Kotlin NodeJs x Implemented DynamoDB for efficient database management x Proficient in various AWS Services Senior Software Developer FalconOrange Technologies April 2021 February 2022 Coimbatore India x Developed and implemented web applications and bot products x Utilized Front End Frameworks ReactJs VueJs Design Frameworks AntdDesign Vuetify Bootstrap and Back End Frameworks NodeJs Python x Managed databases including PostgreSQL and MongoDB Full Stack Developer Focus 4 D Career Education Pvt Ltd February 2019 February 2021 Coimbatore India x Developed an electronic learning platform with 5+ code modules x Conducted regular code refactoring and collaborated with educators x Ensured platform scalability and incorporated gamification features x Managed third party integrations and provided comprehensive training resources Software Developer Consensus Technology June 2017 February 2019 Coimbatore India x Oversaw the entire E learning platform Dodo and contributed to application and content development x Actively enriched features in a live environment PROJECTS Charger Management Software CMS Steam A Private Limited x https //www steam a com/ x October 2023 Present x CMS is a software for Charge Point Operators CPOs to manage their Electric Vehicle charging stations across multiple locations from a single application It provides real time monitoring and optimization capabilities for charging operations allowing CPOs to grow their charging station business and scale efficiently x Engineered a robust Charger Management Software CMS platform that managed over 5 000 electric vehicle charging stations incorporating real time monitoring and automated billing features that improved system uptime by 25% x Front End Frameworks ReactJs NextJS x Design Framework Antd Design x Back End Frameworks NodeJs Java OCPP OCPI x AWS Services EC2 S3 ES Lambda CodeCommit CodePipeline CloudWatch API Gateway ' Sourcing Application Platform InterviewDesk Technologies x https // www gallophire ai/ x May 2023 September 2023 x With a reservoir of 1+ million profiles dive into a search experience that covers Keywords Skills Job Insights Experience Location Company Culture Designation and even Alma Mater x Front End Frameworks ReactJs x Design Framework Antd Design x Back End Frameworks NodeJs x Database DynamoDB x AWS Services EC2 S3 ES Lambda CodeCommit CodePipeline CloudWatch API Gateway DynamoDB Video Conference Platform InterviewDesk Technologies x https //interviewdesk ai/virtual interview platform/ x January 2023 April 2023 x Played a key role in developing a virtual interview platform with advanced AI powered tools x Managed end to end development infrastructure setup and deployment x Conducted load testing and performance tuning x Collaborated with UX/UI designers for a seamless user experience x Implemented real time chat features for a dynamic user experience x Conducted regular system backups and disaster recovery tests x Introduced version control processes for code management x Supported a global user base with 24/7 technical assistance x Resolved complex technical challenges within tight deadlines x Environment x Front End Frameworks ReactJs x Design Framework Antd Design x Back End Frameworks NodeJs x Database DynamoDB x AWS Services AWS CDK AWS SDK EC2 S3 Lambda CodeCommit CodePipeline CloudWatch API Gateway DynamoDB AWS Amplify Cognito CloudFormation App Runner Elastic Container Service Engineered a scalable video conference platform utilizing a suite of AWS services including EC2 S3 Lambda and DynamoDB which facilitated reliable real time communication for over 50 000 concurrent users during peak performance Biochemical Web Application FalconOrange Technologies x February 2022 February 2023 x Worked on multiple digital products facilitating communication between owners and users x Developed a bio chemical product x Implemented RESTful APIs for seamless data retr ieval x Conducted unit testing and test driven development TDD x Collaborated with QA teams for bug fixing and quality assurance x Supported a global user base with timely updates and support x Implemented continuous integration and continuous delivery CI/CD pipelines x Conducted comprehensive user training sessions x Ensured data security and compliance with industry standards x Front End Frameworks ReactJs TypeScript x Design Framework Antd Design x Back End Frameworks NodeJs Python FastApi x Database PostgreSQL MongoDB x AWS Services AWS CDK AWS SDK EC2 CI/CDEngineered a robust biochemical web application infrastructure using AWS CDK and AW S SDK managed multiple EC2 instances for high availability and leveraged CI/CD pipelines that ensured seamless deployment with a 99.9% uptime Cabin Bot Platform FalconOrange Technologies x April 2021 February 2022 x Developed multiple bot products enabling communication between owners and users x Managed deployment processes x Implemented real time chat functionality for enhanced user engagement x Conducted system performance optimization x Collaborated with product managers for feature planning and prioritization x Conducted user feedback sessions for product improvements x Ensured high availability of bot services x Conducted regular code refactoring for code maintainability x Supported a diverse range of industries with customized bot solutions ' ' x Front End Frameworks Bot Framework ReactJS x Back End Frameworks Node js x Database PostgreSQL x Design Framework BootstrapEngineered a responsive user interface for the Cabin Bot Platform using the Bootstrap framework leading to a 50% increase in user engagement and a more seamless experience across various devices and screen sizes Electronic Learning Platform Focus 4 D Career Education Pvt Ltd x https // www faceprep in/ x February 2019 February 2021 x Created an electronic learning platform an integrated set of interactive online services supporting education delivery and management x Worked on 5+ code modules within this project x Conducted regular code refactoring for maintainability x Collaborated with educators for platform customization x Ensured platform scalability for a growing user base x Implemented gamification features to enhance user engagement x Conducted usability testing and user feedback analysis x Managed third party integrations for enriched learning experiences x Supported instructors with comprehensive training resources x Ensured data security and compliance with education standards x Front End Frameworks ReactJs TypeScript x Design Framework Antd Design x Back End Frameworks NodeJs x Database MySQL x AWS Services AWS CDK AWS SDK EC2 CI/CD E learning and Onl ine Coding Platform Consensus Technology Coimbatore x July 2017 January 2019 x Managed the entire E learning and online coding platform Dodo x Added new features to the live environment x Part of application development and content development for courses x Conducted periodic security audits x Collaborated with customer support for issue resolution x Ensured high system uptime for uninterrupted learning x Conducted code optimization for improved platform performance x Supported instructors with course creation tools x Implemented single sign on SSO for enhanced user convenience x Introduced a comprehensive analytics dashboard for performance tracking x Front End Frameworks ReactJs JavaScript x Design Framework Antd Design x Back End Frameworks NodeJs x Database MySQL x AWS Services AWS EC2 S3 EDUCATION Bachelor of Engineering Minor in Computer Science Engineering x Muthayammal Engineering College x Namakkal India x 2018 x 6.5 Higher Secondary Education HSE Minor in Computer Science x State Board x Kallakurichi India x 2014 x 6.5 Secondary School Leaving Certificate SSLC Minor in Mathematics x State Board x Kallakurichi India x 2012 x 79 SKILLS x Front End React Vue Next js Nuxt js x Back End Node js Kotlin x Databases MySQL DynamoDB MongoDB Oracle PostgreSQL x AWS Services Extensive experience with AWS CDK AWS SDK EC2 S3 Lambda CodeCommit CodePipeline CloudWatch API Gateway DynamoDB AWS Amplify Cognito CloudFormation App Runner ECS CloudFront AWS Chime Video and AWS Chime Chat '\n",
    "# \"\"\"\n",
    "summary = \"\"\"\n",
    "I'm Arpit Jain, a Geospatial Specialist with expertise in GIS development and analysis. My background in Civil Engineering and Architecture enables me\n",
    "to design and craft impactful solutions. From 3D architectural visualizations to research protoypes , I merge creativity and precision. \n",
    "Proficient in Unity, ArcGIS, and Python, I excel at transforming complex data into actionable insights. You can visit my port folio at ar-arpit.ml \n",
    "to view my work and connect with me. \n",
    "You can also get in touch with me using following - \n",
    "Email ID: arpit66120@gmail.com   | Phone: +91(783)68 0-5636  | LinkedIn: Arpit Jain\n",
    "\n",
    "EDUCATION  \n",
    "\n",
    "● Master of Technology in Civil Engineering with specialization in Geomatics 2021 -2023  \n",
    "Indian Institute of Technology, Roorkee, Uttarakhand\n",
    "\n",
    "● Bachelor of Architecture  2014 -2020  \n",
    "School of Planning and Architecture, New Delhi.\n",
    "\n",
    "WORK EXPERIENCE \n",
    ". DotNet Technologies - May 2022 to Present\n",
    "\n",
    " Certifications:\n",
    ". Certification is Graphic designing\n",
    "\n",
    "Founded and managing a successful architectural and design consultancy, delivering comprehensive \n",
    "services . Completed various graphic design, website design, interior design , product design and website \n",
    "development projects  apart from architectural projects.\n",
    "\"\"\"\n",
    "prompt = multi_var_prompt.format(summary=summary)\n",
    "body = json.dumps({\n",
    "    \"prompt\": prompt,\n",
    "    \"max_tokens\": 600,\n",
    "    \"top_p\": 0.8,\n",
    "    \"temperature\": 0.5,\n",
    "})\n",
    "response = bedrock.invoke_model(\n",
    "    body=body,\n",
    "    modelId=modelId,\n",
    "    accept=accept,\n",
    "    contentType=contentType\n",
    ")\n",
    "response = json.loads(response.get('body').read())['outputs'][0]['text'].replace(\"\\nSummary:\\n\\n\", \"\")\n",
    "response"
   ]
  },
  {
   "cell_type": "code",
   "execution_count": null,
   "id": "1b923814-5efb-4382-bb47-81dfa74155f0",
   "metadata": {
    "tags": []
   },
   "outputs": [],
   "source": [
    "# try:\n",
    "#     response = json.loads(re.sub(\"\\s+\", \" \", response[0]['text'].replace(\"\\n\", \"\")))\n",
    "# except:\n",
    "#     response = re.sub(\"\\s+\", \" \", response[0]['text'].replace(\"\\n\", \"\"))\n",
    "# response['skills'] = ', '.join(response['skills'])\n",
    "# response"
   ]
  },
  {
   "cell_type": "markdown",
   "id": "ddcc5c18-c01a-48a8-9636-a55b48a7cad7",
   "metadata": {},
   "source": [
    "# Get resume summary using LLM"
   ]
  },
  {
   "cell_type": "code",
   "execution_count": null,
   "id": "41d6c56c",
   "metadata": {
    "tags": []
   },
   "outputs": [],
   "source": [
    "data = pd.read_csv('resume_summary.csv')\n",
    "data.head(1)"
   ]
  },
  {
   "cell_type": "code",
   "execution_count": null,
   "id": "fcb2d0fe",
   "metadata": {
    "tags": []
   },
   "outputs": [],
   "source": [
    "def get_response(summary):\n",
    "    flag = True\n",
    "    while(flag):\n",
    "        try:\n",
    "            prompt = multi_var_prompt.format(summary=summary)\n",
    "            body = json.dumps({\n",
    "                \"prompt\": prompt,\n",
    "                \"max_tokens\": 800,\n",
    "                \"top_p\": 0.8,\n",
    "                \"temperature\": 0.5,\n",
    "            })\n",
    "            response = bedrock.invoke_model(\n",
    "                body=body,\n",
    "                modelId=modelId,\n",
    "                accept=accept,\n",
    "                contentType=contentType\n",
    "            )\n",
    "            flag = False\n",
    "        except Exception as ex:\n",
    "            x = random.randint(1, 3)\n",
    "            time.sleep(x)\n",
    "            \n",
    "    try:\n",
    "        response = json.loads(response.get('body').read())['outputs'][0]['text'].replace(\"\\nSummary:\\n\\n\", \"\")\n",
    "    except:\n",
    "        pass\n",
    "    return response"
   ]
  },
  {
   "cell_type": "markdown",
   "id": "86874d6b-a3d3-4547-b02d-a1e6d182d200",
   "metadata": {},
   "source": [
    "# Test on sample of rows"
   ]
  },
  {
   "cell_type": "code",
   "execution_count": null,
   "id": "3c6d5f21",
   "metadata": {
    "scrolled": true,
    "tags": []
   },
   "outputs": [],
   "source": [
    "temp = data.sample(5)\n",
    "temp['llm_summary'] = temp['summary'].progress_apply(lambda x: get_response(x))"
   ]
  },
  {
   "cell_type": "code",
   "execution_count": null,
   "id": "6f35d4cc-7f89-4a38-b07c-fac6f38d8d32",
   "metadata": {
    "tags": []
   },
   "outputs": [],
   "source": [
    "for response in temp['llm_summary']:\n",
    "    print(response)"
   ]
  },
  {
   "cell_type": "markdown",
   "id": "f74fb5e5-4dd1-4eef-afe3-fb20696959f8",
   "metadata": {},
   "source": [
    "# Run of full DF"
   ]
  },
  {
   "cell_type": "code",
   "execution_count": null,
   "id": "b75cd1b5-2717-4bcd-9e48-f4ccfbf702c5",
   "metadata": {
    "tags": []
   },
   "outputs": [],
   "source": [
    "counter = 0\n",
    "final_df = pd.DataFrame()\n",
    "while True:\n",
    "    if counter > data.shape[0]:\n",
    "        break\n",
    "    temp = data.iloc[counter : counter + 500]\n",
    "    temp['llm_summary'] = temp['summary'].progress_apply(lambda x: get_response(x))\n",
    "    final_df = pd.concat([final_df, temp])\n",
    "    counter += 500"
   ]
  },
  {
   "cell_type": "code",
   "execution_count": null,
   "id": "f8fffecb",
   "metadata": {
    "tags": []
   },
   "outputs": [],
   "source": [
    "final_df.to_csv('llm_generated_summary.csv', index=False)"
   ]
  },
  {
   "cell_type": "code",
   "execution_count": null,
   "id": "5c995880-9d27-45d8-a8c1-894d0a98b827",
   "metadata": {
    "tags": []
   },
   "outputs": [],
   "source": [
    "data = pd.read_csv('llm_generated_summary.csv')\n",
    "data.head(1)"
   ]
  },
  {
   "cell_type": "code",
   "execution_count": null,
   "id": "8448bed8-bfe0-489f-a69c-26040772df79",
   "metadata": {
    "tags": []
   },
   "outputs": [],
   "source": [
    "data['llm_summary'] = data['llm_summary'].str.strip()"
   ]
  },
  {
   "cell_type": "code",
   "execution_count": null,
   "id": "c56e4313-cb98-4291-8e9a-8b78f11eb69e",
   "metadata": {
    "tags": []
   },
   "outputs": [],
   "source": [
    "data.sample(2)"
   ]
  },
  {
   "cell_type": "markdown",
   "id": "5ae33f6c-519b-47a4-b4ac-1c03c7576c64",
   "metadata": {
    "tags": []
   },
   "source": [
    "# Rankig with semantic similarity on JD requirement query"
   ]
  },
  {
   "cell_type": "code",
   "execution_count": 2,
   "id": "5b98e49e-8e5c-499b-aa0c-d7064edc212a",
   "metadata": {
    "tags": []
   },
   "outputs": [
    {
     "name": "stderr",
     "output_type": "stream",
     "text": [
      "[nltk_data] Downloading package punkt to /home/ec2-user/nltk_data...\n",
      "[nltk_data]   Package punkt is already up-to-date!\n"
     ]
    },
    {
     "data": {
      "text/plain": [
       "True"
      ]
     },
     "execution_count": 2,
     "metadata": {},
     "output_type": "execute_result"
    },
    {
     "name": "stderr",
     "output_type": "stream",
     "text": [
      "[nltk_data] Downloading package wordnet to /home/ec2-user/nltk_data...\n",
      "[nltk_data]   Package wordnet is already up-to-date!\n"
     ]
    },
    {
     "data": {
      "text/plain": [
       "True"
      ]
     },
     "execution_count": 2,
     "metadata": {},
     "output_type": "execute_result"
    },
    {
     "name": "stderr",
     "output_type": "stream",
     "text": [
      "[nltk_data] Downloading package omw-1.4 to /home/ec2-user/nltk_data...\n",
      "[nltk_data]   Package omw-1.4 is already up-to-date!\n"
     ]
    },
    {
     "data": {
      "text/plain": [
       "True"
      ]
     },
     "execution_count": 2,
     "metadata": {},
     "output_type": "execute_result"
    },
    {
     "name": "stderr",
     "output_type": "stream",
     "text": [
      "[nltk_data] Downloading package stopwords to\n",
      "[nltk_data]     /home/ec2-user/nltk_data...\n",
      "[nltk_data]   Package stopwords is already up-to-date!\n"
     ]
    },
    {
     "data": {
      "text/plain": [
       "True"
      ]
     },
     "execution_count": 2,
     "metadata": {},
     "output_type": "execute_result"
    }
   ],
   "source": [
    "import re\n",
    "import string\n",
    "import nltk\n",
    "nltk.download('punkt')\n",
    "nltk.download(\"wordnet\")\n",
    "nltk.download(\"omw-1.4\")\n",
    "nltk.download('stopwords')\n",
    "\n",
    "import pandas as pd\n",
    "pd.set_option(\"display.width\", 1000000000)\n",
    "pd.set_option(\"display.max_rows\", 5000)\n",
    "pd.set_option(\"display.max_columns\", None)\n",
    "pd.set_option(\"display.max_colwidth\", None)\n",
    "pd.set_option(\"display.expand_frame_repr\", False)\n",
    "pd.set_option('display.float_format', lambda x: '%.5f' % x)\n",
    "\n",
    "import PyPDF2\n",
    "import os\n",
    "\n",
    "from nltk.stem import WordNetLemmatizer\n",
    "from nltk.tokenize import word_tokenize\n",
    "from nltk.corpus import stopwords\n",
    "\n",
    "stop_words = set(stopwords.words('english'))"
   ]
  },
  {
   "cell_type": "code",
   "execution_count": 3,
   "id": "bd38fe92-4d87-4f7f-8a47-3aaa6d7b28d1",
   "metadata": {
    "tags": []
   },
   "outputs": [],
   "source": [
    "from sentence_transformers.cross_encoder import CrossEncoder"
   ]
  },
  {
   "cell_type": "code",
   "execution_count": 9,
   "id": "5e5afa29-a8af-46b8-b25c-0158e0f383ff",
   "metadata": {
    "tags": []
   },
   "outputs": [],
   "source": [
    "# Pre-trained cross encoder\n",
    "model = CrossEncoder(\"BAAI/bge-reranker-base\")\n",
    "# model = CrossEncoder(\"BAAI/bge-reranker-v2-m3\")"
   ]
  },
  {
   "cell_type": "code",
   "execution_count": 6,
   "id": "d9a02a4d-f724-4d46-b5d0-1200ab062499",
   "metadata": {
    "tags": []
   },
   "outputs": [],
   "source": [
    "query = \"\"\"Computer Science Engineering 2 years 1 month experience software engineering C Angular SQL Microsoft Azure Azure Data Factory CICD Azure pipelines API YAML\"\"\""
   ]
  },
  {
   "cell_type": "code",
   "execution_count": 7,
   "id": "cfb1c5e9-7d2d-4eb6-818d-8286190e7bef",
   "metadata": {
    "tags": []
   },
   "outputs": [],
   "source": [
    "summary_1 = \"\"\"\n",
    "'Arpit Jain Master Technology Civil Engineering specialization Geomatics Indian Institute Technology Roorkee Uttarakhand 2021 2023 Bachelor Architecture School Planning Architecture New Delhi 2014 2020 working Geospatial Specialist DotNet Technologies since May 2022 proficiency Unity ArcGIS Python Arpit also completed certification Graphic Designing founded manages successful architectural design consultancy delivering comprehensive services including graphic design website design interior design product design website development projects addition architectural projects'\n",
    "\"\"\"\n",
    "\n",
    "summary_2 = \"\"\"candidate Shilpa Kuriankose Bachelor Engineering Computer Science Engineering Madras Institute Technology Chennai India earned June 2020 2 years 1 month experience software engineering focus Net Framework C Angular SQL Microsoft Azure Azure Logic Apps Azure Data Factory trouble shooting worked Senior Software Engineer LTI Mindtree Chennai India March 2021 January 2024 responsible client support checking bugs weaknesses providing enhancements code bases direct client interactions deploying solutions using CICD Azure pipelines also experience Software Engineer LTI Mindtree Chennai India February 2021 August 2021 checked client codes bugs weaknesses supported RPA application made enhancements code bases Additionally experience Graduate Engineer Trainee LTI Mindtree Chennai India October 2020 February 2021 developed application called Online Examination System C front end Angular backend SQL data storage also worked projects Emed Domgas Blend Reports built NET Core Angular back ends use SQL Azure Logic Apps Blob Storage professional certifications Net Framework C Angular SQL Microsoft Azure Azure Logic Apps Azure Data Factory trouble shooting skill set includes Net Framework C Angular SQL Microsoft Azure Azure Logic Apps Azure Data Factory trouble shooting stored procedures web API YAML files\n",
    "\"\"\""
   ]
  },
  {
   "cell_type": "code",
   "execution_count": 10,
   "id": "56140444-4b83-4750-98a0-d0b9f194384e",
   "metadata": {
    "tags": []
   },
   "outputs": [
    {
     "name": "stdout",
     "output_type": "stream",
     "text": [
      "Query:  Computer Science Engineering 2 years 1 month experience software engineering C Angular SQL Microsoft Azure Azure Data Factory CICD Azure pipelines API YAML \n",
      "\n",
      "Similarity score: 1.00\n",
      "\n",
      "candidate Shilpa Kuriankose Bachelor Engineering Computer Science Engineering Madras Institute Technology Chennai India earned June 2020 2 years 1 month experience software engineering focus Net Framework C Angular SQL Microsoft Azure Azure Logic Apps Azure Data Factory trouble shooting worked Senior Software Engineer LTI Mindtree Chennai India March 2021 January 2024 responsible client support checking bugs weaknesses providing enhancements code bases direct client interactions deploying solutions using CICD Azure pipelines also experience Software Engineer LTI Mindtree Chennai India February 2021 August 2021 checked client codes bugs weaknesses supported RPA application made enhancements code bases Additionally experience Graduate Engineer Trainee LTI Mindtree Chennai India October 2020 February 2021 developed application called Online Examination System C front end Angular backend SQL data storage also worked projects Emed Domgas Blend Reports built NET Core Angular back ends use SQL Azure Logic Apps Blob Storage professional certifications Net Framework C Angular SQL Microsoft Azure Azure Logic Apps Azure Data Factory trouble shooting skill set includes Net Framework C Angular SQL Microsoft Azure Azure Logic Apps Azure Data Factory trouble shooting stored procedures web API YAML files\n",
      "\n",
      "~~~~~~~~~~~~~~~~~~~~~~~~~~~~~~~~~~~~~~~~~~~~~~~~~~\n",
      "Similarity score: 0.00\n",
      "\n",
      "\n",
      "'Arpit Jain Master Technology Civil Engineering specialization Geomatics Indian Institute Technology Roorkee Uttarakhand 2021 2023 Bachelor Architecture School Planning Architecture New Delhi 2014 2020 working Geospatial Specialist DotNet Technologies since May 2022 proficiency Unity ArcGIS Python Arpit also completed certification Graphic Designing founded manages successful architectural design consultancy delivering comprehensive services including graphic design website design interior design product design website development projects addition architectural projects'\n",
      "\n",
      "~~~~~~~~~~~~~~~~~~~~~~~~~~~~~~~~~~~~~~~~~~~~~~~~~~\n"
     ]
    }
   ],
   "source": [
    "# We want to compute the similarity between the query sentence and all resume summaries\n",
    "corpus = [summary_1, summary_2]\n",
    "\n",
    "# 1. We rank all sentences in the corpus for the query\n",
    "ranks = model.rank(query, corpus)\n",
    "\n",
    "print(\"Query: \", query, '\\n')\n",
    "for rank in ranks:\n",
    "    print(f\"Similarity score: {rank['score']:.2f}\\n\\n{corpus[rank['corpus_id']]}\")\n",
    "    print(\"~\" * 50)\n",
    "    \n",
    "# # 2. Alternatively, you can also manually compute the score between two sentences \n",
    "# sentence_combinations = [[query, sentence] for sentence in corpus]\n",
    "# scores = model.predict(sentence_combinations)\n",
    "\n",
    "# print(\"scores:\", scores)"
   ]
  },
  {
   "cell_type": "code",
   "execution_count": 11,
   "id": "64c3da1b-1bba-47ed-a375-571b11069dd7",
   "metadata": {
    "tags": []
   },
   "outputs": [
    {
     "data": {
      "text/html": [
       "<div>\n",
       "<style scoped>\n",
       "    .dataframe tbody tr th:only-of-type {\n",
       "        vertical-align: middle;\n",
       "    }\n",
       "\n",
       "    .dataframe tbody tr th {\n",
       "        vertical-align: top;\n",
       "    }\n",
       "\n",
       "    .dataframe thead th {\n",
       "        text-align: right;\n",
       "    }\n",
       "</style>\n",
       "<table border=\"1\" class=\"dataframe\">\n",
       "  <thead>\n",
       "    <tr style=\"text-align: right;\">\n",
       "      <th></th>\n",
       "      <th>file_name</th>\n",
       "      <th>llm_summary</th>\n",
       "    </tr>\n",
       "  </thead>\n",
       "  <tbody>\n",
       "    <tr>\n",
       "      <th>0</th>\n",
       "      <td>resume_folder/shilpakur18@gmail.com_resume.pdf</td>\n",
       "      <td>The candidate, Shilpa Kuriankose, has a Bachelor of Engineering in Computer Science Engineering from the Madras Institute of Technology in Chennai, India, earned in June 2020. She has 2 years and 1 month of experience in software engineering, with a focus on Net Framework, C, Angular, SQL, Microsoft Azure, Azure Logic Apps, Azure Data Factory, and trouble shooting. She has worked as a Senior Software Engineer at LTI Mindtree in Chennai, India, from March 2021 to January 2024, where she was responsible for client support, checking for bugs and weaknesses, providing enhancements to code bases, direct client interactions, and deploying solutions using CICD Azure pipelines. She also has experience as a Software Engineer at LTI Mindtree in Chennai, India, from February 2021 to August 2021, where she checked client codes for bugs and weaknesses, supported an RPA application, and made enhancements to code bases. Additionally, she has experience as a Graduate Engineer Trainee at LTI Mindtree in Chennai, India, from October 2020 to February 2021, where she developed an application called Online Examination System with C as the front end, Angular as the backend, and SQL as data storage. She has also worked on projects such as Emed Domgas and Blend Reports, which are built in NET Core with Angular back ends and use SQL Azure, Logic Apps, and Blob Storage. She has professional certifications in Net Framework, C, Angular, SQL, Microsoft Azure, Azure Logic Apps, Azure Data Factory, and trouble shooting. Her skill set includes Net Framework, C, Angular, SQL, Microsoft Azure, Azure Logic Apps, Azure Data Factory, trouble shooting, stored procedures, web API, and YAML files.</td>\n",
       "    </tr>\n",
       "  </tbody>\n",
       "</table>\n",
       "</div>"
      ],
      "text/plain": [
       "                                        file_name                                                                                                                                                                                                                                                                                                                                                                                                                                                                                                                                                                                                                                                                                                                                                                                                                                                                                                                                                                                                                                                                                                                                                                                                                                                                                                                                                                                                                                                                                                                                                                                                                                                                                                                                             llm_summary\n",
       "0  resume_folder/shilpakur18@gmail.com_resume.pdf  The candidate, Shilpa Kuriankose, has a Bachelor of Engineering in Computer Science Engineering from the Madras Institute of Technology in Chennai, India, earned in June 2020. She has 2 years and 1 month of experience in software engineering, with a focus on Net Framework, C, Angular, SQL, Microsoft Azure, Azure Logic Apps, Azure Data Factory, and trouble shooting. She has worked as a Senior Software Engineer at LTI Mindtree in Chennai, India, from March 2021 to January 2024, where she was responsible for client support, checking for bugs and weaknesses, providing enhancements to code bases, direct client interactions, and deploying solutions using CICD Azure pipelines. She also has experience as a Software Engineer at LTI Mindtree in Chennai, India, from February 2021 to August 2021, where she checked client codes for bugs and weaknesses, supported an RPA application, and made enhancements to code bases. Additionally, she has experience as a Graduate Engineer Trainee at LTI Mindtree in Chennai, India, from October 2020 to February 2021, where she developed an application called Online Examination System with C as the front end, Angular as the backend, and SQL as data storage. She has also worked on projects such as Emed Domgas and Blend Reports, which are built in NET Core with Angular back ends and use SQL Azure, Logic Apps, and Blob Storage. She has professional certifications in Net Framework, C, Angular, SQL, Microsoft Azure, Azure Logic Apps, Azure Data Factory, and trouble shooting. Her skill set includes Net Framework, C, Angular, SQL, Microsoft Azure, Azure Logic Apps, Azure Data Factory, trouble shooting, stored procedures, web API, and YAML files."
      ]
     },
     "execution_count": 11,
     "metadata": {},
     "output_type": "execute_result"
    }
   ],
   "source": [
    "data = pd.read_csv('single_string_llm_response_mixtral.csv', usecols=['file_name', 'llm_summary'])\n",
    "data.head(1)"
   ]
  },
  {
   "cell_type": "code",
   "execution_count": 12,
   "id": "b8a57051-b070-41f7-856f-62358cc56cba",
   "metadata": {
    "tags": []
   },
   "outputs": [],
   "source": [
    "def apply_lemmatization(summary):\n",
    "    translator = re.compile('[%s]' % re.escape(string.punctuation))\n",
    "    summary = translator.sub(' ', summary)\n",
    "    word_tokens = word_tokenize(summary)\n",
    "    filtered_tokens = [token for token in word_tokens if not token.lower() in stop_words]\n",
    "    return \" \".join(filtered_tokens)"
   ]
  },
  {
   "cell_type": "code",
   "execution_count": 13,
   "id": "0d6fb814-2342-4be1-9b60-a09c9d2b0159",
   "metadata": {
    "tags": []
   },
   "outputs": [
    {
     "data": {
      "text/html": [
       "<div>\n",
       "<style scoped>\n",
       "    .dataframe tbody tr th:only-of-type {\n",
       "        vertical-align: middle;\n",
       "    }\n",
       "\n",
       "    .dataframe tbody tr th {\n",
       "        vertical-align: top;\n",
       "    }\n",
       "\n",
       "    .dataframe thead th {\n",
       "        text-align: right;\n",
       "    }\n",
       "</style>\n",
       "<table border=\"1\" class=\"dataframe\">\n",
       "  <thead>\n",
       "    <tr style=\"text-align: right;\">\n",
       "      <th></th>\n",
       "      <th>file_name</th>\n",
       "      <th>llm_summary</th>\n",
       "      <th>llm_summary_processed</th>\n",
       "    </tr>\n",
       "  </thead>\n",
       "  <tbody>\n",
       "    <tr>\n",
       "      <th>0</th>\n",
       "      <td>resume_folder/shilpakur18@gmail.com_resume.pdf</td>\n",
       "      <td>The candidate, Shilpa Kuriankose, has a Bachelor of Engineering in Computer Science Engineering from the Madras Institute of Technology in Chennai, India, earned in June 2020. She has 2 years and 1 month of experience in software engineering, with a focus on Net Framework, C, Angular, SQL, Microsoft Azure, Azure Logic Apps, Azure Data Factory, and trouble shooting. She has worked as a Senior Software Engineer at LTI Mindtree in Chennai, India, from March 2021 to January 2024, where she was responsible for client support, checking for bugs and weaknesses, providing enhancements to code bases, direct client interactions, and deploying solutions using CICD Azure pipelines. She also has experience as a Software Engineer at LTI Mindtree in Chennai, India, from February 2021 to August 2021, where she checked client codes for bugs and weaknesses, supported an RPA application, and made enhancements to code bases. Additionally, she has experience as a Graduate Engineer Trainee at LTI Mindtree in Chennai, India, from October 2020 to February 2021, where she developed an application called Online Examination System with C as the front end, Angular as the backend, and SQL as data storage. She has also worked on projects such as Emed Domgas and Blend Reports, which are built in NET Core with Angular back ends and use SQL Azure, Logic Apps, and Blob Storage. She has professional certifications in Net Framework, C, Angular, SQL, Microsoft Azure, Azure Logic Apps, Azure Data Factory, and trouble shooting. Her skill set includes Net Framework, C, Angular, SQL, Microsoft Azure, Azure Logic Apps, Azure Data Factory, trouble shooting, stored procedures, web API, and YAML files.</td>\n",
       "      <td>candidate Shilpa Kuriankose Bachelor Engineering Computer Science Engineering Madras Institute Technology Chennai India earned June 2020 2 years 1 month experience software engineering focus Net Framework C Angular SQL Microsoft Azure Azure Logic Apps Azure Data Factory trouble shooting worked Senior Software Engineer LTI Mindtree Chennai India March 2021 January 2024 responsible client support checking bugs weaknesses providing enhancements code bases direct client interactions deploying solutions using CICD Azure pipelines also experience Software Engineer LTI Mindtree Chennai India February 2021 August 2021 checked client codes bugs weaknesses supported RPA application made enhancements code bases Additionally experience Graduate Engineer Trainee LTI Mindtree Chennai India October 2020 February 2021 developed application called Online Examination System C front end Angular backend SQL data storage also worked projects Emed Domgas Blend Reports built NET Core Angular back ends use SQL Azure Logic Apps Blob Storage professional certifications Net Framework C Angular SQL Microsoft Azure Azure Logic Apps Azure Data Factory trouble shooting skill set includes Net Framework C Angular SQL Microsoft Azure Azure Logic Apps Azure Data Factory trouble shooting stored procedures web API YAML files</td>\n",
       "    </tr>\n",
       "  </tbody>\n",
       "</table>\n",
       "</div>"
      ],
      "text/plain": [
       "                                        file_name                                                                                                                                                                                                                                                                                                                                                                                                                                                                                                                                                                                                                                                                                                                                                                                                                                                                                                                                                                                                                                                                                                                                                                                                                                                                                                                                                                                                                                                                                                                                                                                                                                                                                                                                             llm_summary                                                                                                                                                                                                                                                                                                                                                                                                                                                                                                                                                                                                                                                                                                                                                                                                                                                                                                                                                                                                                                                                                                                                                                                                                                                                                                                                          llm_summary_processed\n",
       "0  resume_folder/shilpakur18@gmail.com_resume.pdf  The candidate, Shilpa Kuriankose, has a Bachelor of Engineering in Computer Science Engineering from the Madras Institute of Technology in Chennai, India, earned in June 2020. She has 2 years and 1 month of experience in software engineering, with a focus on Net Framework, C, Angular, SQL, Microsoft Azure, Azure Logic Apps, Azure Data Factory, and trouble shooting. She has worked as a Senior Software Engineer at LTI Mindtree in Chennai, India, from March 2021 to January 2024, where she was responsible for client support, checking for bugs and weaknesses, providing enhancements to code bases, direct client interactions, and deploying solutions using CICD Azure pipelines. She also has experience as a Software Engineer at LTI Mindtree in Chennai, India, from February 2021 to August 2021, where she checked client codes for bugs and weaknesses, supported an RPA application, and made enhancements to code bases. Additionally, she has experience as a Graduate Engineer Trainee at LTI Mindtree in Chennai, India, from October 2020 to February 2021, where she developed an application called Online Examination System with C as the front end, Angular as the backend, and SQL as data storage. She has also worked on projects such as Emed Domgas and Blend Reports, which are built in NET Core with Angular back ends and use SQL Azure, Logic Apps, and Blob Storage. She has professional certifications in Net Framework, C, Angular, SQL, Microsoft Azure, Azure Logic Apps, Azure Data Factory, and trouble shooting. Her skill set includes Net Framework, C, Angular, SQL, Microsoft Azure, Azure Logic Apps, Azure Data Factory, trouble shooting, stored procedures, web API, and YAML files.  candidate Shilpa Kuriankose Bachelor Engineering Computer Science Engineering Madras Institute Technology Chennai India earned June 2020 2 years 1 month experience software engineering focus Net Framework C Angular SQL Microsoft Azure Azure Logic Apps Azure Data Factory trouble shooting worked Senior Software Engineer LTI Mindtree Chennai India March 2021 January 2024 responsible client support checking bugs weaknesses providing enhancements code bases direct client interactions deploying solutions using CICD Azure pipelines also experience Software Engineer LTI Mindtree Chennai India February 2021 August 2021 checked client codes bugs weaknesses supported RPA application made enhancements code bases Additionally experience Graduate Engineer Trainee LTI Mindtree Chennai India October 2020 February 2021 developed application called Online Examination System C front end Angular backend SQL data storage also worked projects Emed Domgas Blend Reports built NET Core Angular back ends use SQL Azure Logic Apps Blob Storage professional certifications Net Framework C Angular SQL Microsoft Azure Azure Logic Apps Azure Data Factory trouble shooting skill set includes Net Framework C Angular SQL Microsoft Azure Azure Logic Apps Azure Data Factory trouble shooting stored procedures web API YAML files"
      ]
     },
     "execution_count": 13,
     "metadata": {},
     "output_type": "execute_result"
    }
   ],
   "source": [
    "data['llm_summary_processed'] = data.apply(lambda x: apply_lemmatization(x['llm_summary']), axis=1)\n",
    "data.head(1)"
   ]
  },
  {
   "cell_type": "code",
   "execution_count": 14,
   "id": "b047723f-749b-49bc-bfb2-20441e5ae9d5",
   "metadata": {
    "tags": []
   },
   "outputs": [],
   "source": [
    "def get_semantic_search_ranking(query, corpus):\n",
    "    sentence_combinations = [[query, sentence] for sentence in corpus]\n",
    "    similarity_score_list = model.predict(sentence_combinations)\n",
    "    return similarity_score_list"
   ]
  },
  {
   "cell_type": "code",
   "execution_count": 15,
   "id": "41e7fe00-5060-4970-9457-ed31921a554a",
   "metadata": {
    "tags": []
   },
   "outputs": [],
   "source": [
    "def delete_files_in_directory(directory_path):\n",
    "    try:\n",
    "        files = os.listdir(directory_path)\n",
    "        for file in files:\n",
    "            file_path = os.path.join(directory_path, file)\n",
    "            if os.path.isfile(file_path):\n",
    "                os.remove(file_path)\n",
    "        return True\n",
    "    except Exception as e:\n",
    "        print(\"Exception not able to delete files.\", e)\n",
    "        return False"
   ]
  },
  {
   "cell_type": "code",
   "execution_count": 16,
   "id": "086626a5-8f92-4cf5-88b7-3f7b3203b7dd",
   "metadata": {
    "tags": []
   },
   "outputs": [],
   "source": [
    "def make_directiory(directory_path):\n",
    "    try:\n",
    "        os.mkdir(dir_name)\n",
    "        return True\n",
    "    except Exception as e:\n",
    "        print(\"Exception not able to Create Directory at path: \", dir_name, \"\\n\", e)\n",
    "        return False"
   ]
  },
  {
   "cell_type": "code",
   "execution_count": 17,
   "id": "8006acfd-20f1-4952-b90c-ee0870f1af42",
   "metadata": {
    "tags": []
   },
   "outputs": [],
   "source": [
    "def copy_files(directory_path, file_names_list):\n",
    "    try:\n",
    "        for ind, file in enumerate(file_names_list):\n",
    "            with open(file, 'rb') as pdf_in:\n",
    "                pdf_reader = PyPDF2.PdfReader(pdf_in)\n",
    "                pdf_writer = PyPDF2.PdfWriter()\n",
    "                for pagenum in range(len(pdf_reader.pages)):\n",
    "                    page = pdf_reader.pages[pagenum]\n",
    "                    pdf_writer.add_page(page)\n",
    "            new_file_path = os.path.join(directory_path, f\"resume_{ind + 1}.pdf\")\n",
    "            with open(new_file_path, 'wb') as pdf_out:\n",
    "                pdf_writer.write(pdf_out)\n",
    "        print(\"Top resumes picked and can be found at path : \", dir_name)\n",
    "    except Exception as e:\n",
    "        print(\"Exception not able to Create Directory at path: \", dir_name, \"\\n\", e)"
   ]
  },
  {
   "cell_type": "code",
   "execution_count": null,
   "id": "b0ee664b-aa26-422a-8c6f-d02f80d0b21c",
   "metadata": {
    "tags": []
   },
   "outputs": [
    {
     "data": {
      "text/plain": [
       "\"To exit: use 'exit', 'quit', 'q', or Ctrl-D.\""
      ]
     },
     "execution_count": 18,
     "metadata": {},
     "output_type": "execute_result"
    },
    {
     "name": "stdin",
     "output_type": "stream",
     "text": [
      "Query:  ndian Institute of Technology classification Segmentation training machine learning Linear Regression Decision Tree Random Forest XGBoost data analysis  Data Structures Pandas Numpy Matplotlib Scikit learn Tensorflow PyTorch Jupyter Notebook vs Code SQL Power BI\n"
     ]
    },
    {
     "name": "stdout",
     "output_type": "stream",
     "text": [
      "\n",
      " Please wiat while we fectch best possible results.....\n"
     ]
    }
   ],
   "source": [
    "num_top_resume = 5\n",
    "while True:\n",
    "    \"\"\"To exit: use 'exit', 'quit', 'q', or Ctrl-D.\"\"\"\n",
    "    query = input('Query: ')\n",
    "    if query.lower() in [\"exit\", \"quit\", \"q\"]:\n",
    "        print('Exiting')\n",
    "        break\n",
    "    print(\"\\n Please wiat while we fectch best possible results.....\")\n",
    "    query = apply_lemmatization(query)\n",
    "    data['similarity_score'] = list(get_semantic_search_ranking(query, data['llm_summary_processed'].tolist()))\n",
    "    data.sort_values(by=['similarity_score'], inplace=True, ascending=False)\n",
    "    top_rows_df = data[data['similarity_score'] > 0.8]\n",
    "    if not top_rows_df.empty:\n",
    "        top_resume_file_names = top_rows_df['file_name'].tolist()[: num_top_resume]\n",
    "        dir_name = os.path.join(os.getcwd(), \"top_resume_folder\")\n",
    "        if os.path.exists(dir_name):\n",
    "            if delete_files_in_directory(dir_name):\n",
    "                copy_files(dir_name, top_resume_file_names)\n",
    "        elif make_directiory(dir_name):\n",
    "            copy_files(dir_name, top_resume_file_names)\n",
    "    else:\n",
    "        print(\"Sorry! No resume matches the given job description well. Refining your JD can work.\")"
   ]
  },
  {
   "cell_type": "code",
   "execution_count": null,
   "id": "aa33f15f-0b13-442c-93df-e4e49a8628aa",
   "metadata": {
    "tags": []
   },
   "outputs": [],
   "source": [
    "\"\"\"\n",
    "1. \n",
    "Civil Engineer Indian Institute Technology Geospatial Specialist DotNet Technologies Unity ArcGIS Python Arpit Graphic Designing graphic design interior design product design Data Analytic\n",
    "\n",
    "2. \n",
    "Indian Institute of Technology classification Segmentation machine learning Linear Regression Decision Tree Random Forest XGBoost data analysis \n",
    "Data Structures Pandas Numpy Matplotlib Scikit learn Tensorflow PyTorch Jupyter Notebook vs Code SQL Power BI\n",
    "\n",
    "3. \n",
    "Ruby on Rails 4 years of experience docker containeriztion aws Azure Agile Kanban sql Postgresql Javascript ReactJS REST API CICD Couchbase OOP Engineering degree computer science\n",
    "\n",
    "\"\"\""
   ]
  }
 ],
 "metadata": {
  "kernelspec": {
   "display_name": "conda_pytorch_p310",
   "language": "python",
   "name": "conda_pytorch_p310"
  },
  "language_info": {
   "codemirror_mode": {
    "name": "ipython",
    "version": 3
   },
   "file_extension": ".py",
   "mimetype": "text/x-python",
   "name": "python",
   "nbconvert_exporter": "python",
   "pygments_lexer": "ipython3",
   "version": "3.10.14"
  }
 },
 "nbformat": 4,
 "nbformat_minor": 5
}
